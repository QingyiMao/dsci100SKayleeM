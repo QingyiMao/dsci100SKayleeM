{
 "cells": [
  {
   "cell_type": "markdown",
   "id": "cd9d70af-c06f-4267-ad63-d831fba7364c",
   "metadata": {},
   "source": [
    "# Project\n",
    "\n",
    "#### Link to github repository: \n",
    "https://github.com/QingyiMao/dsci100SKayleeM.git\n",
    "\n",
    "## Title\n",
    "\n",
    "## Introduction:\n",
    "\n",
    "#### Background: \n",
    "provide some relevant background information on the topic so that someone unfamiliar with it will be prepared to understand the rest of your report\n",
    "\n",
    "#### Question(s): \n",
    "clearly state the question you tried to answer with your project. Your question should involve one response variable of interest and one or more explanatory variables, and should be stated as a question. One common question format is: “Can [explanatory variable(s)] predict [response variable] in [dataset]?”, but you are free to format your question as you choose so long as it is clear.\n",
    "#### Data Description: \n",
    "identify and fully describe the dataset that was used to answer the question. Provide a full descriptive summary of the dataset, including information such as the number of observations, summary statistics, number of variables, name and type of variables, what the variables mean, any issues you see in the data, any other potential issues related to things you cannot directly see, how the data were collected, etc. Make sure to use bullet point lists or tables to summarize the variables in an easy-to-understand format. Note that the selected dataset(s) will probably contain more variables than you need. \n",
    "\n",
    "## Methods & Results:\n",
    "describe the methods you used to perform your analysis from beginning to end that narrates the analysis code.\n",
    "\n",
    "#### Code:\n",
    "loads data \n",
    "wrangles and cleans the data to the format necessary for the planned analysis\n",
    "performs a summary of the data set that is relevant for exploratory data analysis related to the planned analysis \n",
    "creates a visualization of the dataset that is relevant for exploratory data analysis related to the planned analysis\n",
    "Use our visualization best practices to make high-quality plots (make sure to include labels, titles, units of measurement, etc)\n",
    "Explain any insights you gain from these plots that are relevant to address your question\n",
    "performs the data analysis. For your analysis, you should think about and provide a brief explanation of the following questions:\n",
    "Why is this method appropriate?\n",
    "Which assumptions are required, if any, to apply the method selected?\n",
    "What are the potential limitations or weaknesses of the method selected?\n",
    "How did you compare and select the model?\n",
    "Note: you should also think about the following:\n",
    "How are you going to process the data to apply the model? For example: Are you splitting the data? How? How many splits? What proportions will you use for the splits? At what stage will you split? Will there be a validation set? Will you use cross validation?\n",
    "creates a visualization of the analysis \n",
    "note: all figures should have a figure number and a legend\n",
    "\n",
    "## Discussion:\n",
    "summarize what you found\n",
    "discuss whether this is what you expected to find?\n",
    "discuss what impact could such findings have?\n",
    "discuss what future questions could this lead to?\n",
    "\n",
    "## References:\n",
    "You may include references if necessary, as long as they all have a consistent citation style."
   ]
  },
  {
   "cell_type": "code",
   "execution_count": null,
   "id": "8aaafeea-60ff-414a-81ed-9742ee540369",
   "metadata": {},
   "outputs": [],
   "source": []
  }
 ],
 "metadata": {
  "kernelspec": {
   "display_name": "R",
   "language": "R",
   "name": "ir"
  },
  "language_info": {
   "codemirror_mode": "r",
   "file_extension": ".r",
   "mimetype": "text/x-r-source",
   "name": "R",
   "pygments_lexer": "r",
   "version": "4.3.3"
  }
 },
 "nbformat": 4,
 "nbformat_minor": 5
}
